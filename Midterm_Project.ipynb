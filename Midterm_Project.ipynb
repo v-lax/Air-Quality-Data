{
 "cells": [
  {
   "cell_type": "markdown",
   "metadata": {},
   "source": [
    "## AIR QUALITY DATA FOR CITIES IN INDIA"
   ]
  },
  {
   "cell_type": "markdown",
   "metadata": {},
   "source": [
    "AirVisual provides an API that allows you to access real time air \n",
    "quality (aq) data for different cities around the world. \n",
    "\n",
    "I wanted to look at the air quality values for different cities in\n",
    "India and compare them. \n",
    "\n",
    "My hope is to use this and find out out of all the cities in India, which city had the highest air quality value and which ones had lower ones. "
   ]
  },
  {
   "cell_type": "markdown",
   "metadata": {},
   "source": [
    "## Notes on AirVisual API"
   ]
  },
  {
   "cell_type": "markdown",
   "metadata": {},
   "source": [
    "The API is provided by AirVisual. This API only allows you to request aq data one city at a time. So you need to have a couple of parameters in order to get the right information. \n",
    "\n",
    "Parameters include:\n",
    "    1. Exact City name \n",
    "    2. Exact State name\n",
    "    3. Country \n",
    "    4. Key\n",
    "\n",
    "The caveat here is that the API only provides aq data for certain cities, and you have to have the spelling correct. Other wise you end up with zero information. "
   ]
  },
  {
   "cell_type": "markdown",
   "metadata": {},
   "source": [
    "## Notes on Process"
   ]
  },
  {
   "cell_type": "markdown",
   "metadata": {},
   "source": [
    "I did not want to go through an try to find out which city this api had data for. In order to find out cities data were available for, I had to get the list of supported cities. The code below does just that. \n",
    "\n",
    "It uses different API calls to first get a list of supported states, then it uses that to get a list of supported cities. Then we can use the list of cities to get the appropriate city air quality data"
   ]
  },
  {
   "cell_type": "code",
   "execution_count": 1,
   "metadata": {},
   "outputs": [],
   "source": [
    "import urllib\n",
    "import json\n",
    "import requests\n",
    "import pandas as pd"
   ]
  },
  {
   "cell_type": "code",
   "execution_count": 2,
   "metadata": {},
   "outputs": [],
   "source": [
    "url='http://api.airvisual.com/v2/states?country=India&key=SGohAttESqMpCyjCF'\n",
    "r=requests.get(url)\n",
    "r_dict_states=r.json()\n",
    "list_of_states=r_dict_states['data']"
   ]
  },
  {
   "cell_type": "code",
   "execution_count": 3,
   "metadata": {},
   "outputs": [
    {
     "data": {
      "text/plain": [
       "['Andhra Pradesh',\n",
       " 'Bihar',\n",
       " 'Delhi',\n",
       " 'Gujarat',\n",
       " 'Haryana',\n",
       " 'Jharkhand',\n",
       " 'Karnataka',\n",
       " 'Kerala',\n",
       " 'Madhya Pradesh',\n",
       " 'Maharashtra',\n",
       " 'Odisha',\n",
       " 'Punjab',\n",
       " 'Rajasthan',\n",
       " 'Tamil Nadu',\n",
       " 'Telangana',\n",
       " 'Uttar Pradesh',\n",
       " 'West Bengal']"
      ]
     },
     "execution_count": 3,
     "metadata": {},
     "output_type": "execute_result"
    }
   ],
   "source": [
    "list_of_statess=[]\n",
    "for state in list_of_states:\n",
    "    list_of_statess.append(state['state'])\n",
    "list_of_statess"
   ]
  },
  {
   "cell_type": "code",
   "execution_count": 4,
   "metadata": {
    "scrolled": true
   },
   "outputs": [
    {
     "data": {
      "text/plain": [
       "['http://api.airvisual.com/v2/cities?state=Andhra+Pradesh&country=India&key=SGohAttESqMpCyjCF',\n",
       " 'http://api.airvisual.com/v2/cities?state=Bihar&country=India&key=SGohAttESqMpCyjCF',\n",
       " 'http://api.airvisual.com/v2/cities?state=Delhi&country=India&key=SGohAttESqMpCyjCF',\n",
       " 'http://api.airvisual.com/v2/cities?state=Gujarat&country=India&key=SGohAttESqMpCyjCF',\n",
       " 'http://api.airvisual.com/v2/cities?state=Haryana&country=India&key=SGohAttESqMpCyjCF',\n",
       " 'http://api.airvisual.com/v2/cities?state=Jharkhand&country=India&key=SGohAttESqMpCyjCF',\n",
       " 'http://api.airvisual.com/v2/cities?state=Karnataka&country=India&key=SGohAttESqMpCyjCF',\n",
       " 'http://api.airvisual.com/v2/cities?state=Kerala&country=India&key=SGohAttESqMpCyjCF',\n",
       " 'http://api.airvisual.com/v2/cities?state=Madhya+Pradesh&country=India&key=SGohAttESqMpCyjCF',\n",
       " 'http://api.airvisual.com/v2/cities?state=Maharashtra&country=India&key=SGohAttESqMpCyjCF',\n",
       " 'http://api.airvisual.com/v2/cities?state=Odisha&country=India&key=SGohAttESqMpCyjCF',\n",
       " 'http://api.airvisual.com/v2/cities?state=Punjab&country=India&key=SGohAttESqMpCyjCF',\n",
       " 'http://api.airvisual.com/v2/cities?state=Rajasthan&country=India&key=SGohAttESqMpCyjCF',\n",
       " 'http://api.airvisual.com/v2/cities?state=Tamil+Nadu&country=India&key=SGohAttESqMpCyjCF',\n",
       " 'http://api.airvisual.com/v2/cities?state=Telangana&country=India&key=SGohAttESqMpCyjCF',\n",
       " 'http://api.airvisual.com/v2/cities?state=Uttar+Pradesh&country=India&key=SGohAttESqMpCyjCF',\n",
       " 'http://api.airvisual.com/v2/cities?state=West+Bengal&country=India&key=SGohAttESqMpCyjCF']"
      ]
     },
     "execution_count": 4,
     "metadata": {},
     "output_type": "execute_result"
    }
   ],
   "source": [
    "list_of_request_urls=[]\n",
    "for state in list_of_statess:\n",
    "    base_url=\"http://api.airvisual.com/v2/cities?\"\n",
    "    query_str=urllib.parse.urlencode({'state':state,'country':'India','key':'SGohAttESqMpCyjCF'})\n",
    "    request_url=base_url+query_str\n",
    "    list_of_request_urls.append(request_url)\n",
    "list_of_request_urls"
   ]
  },
  {
   "cell_type": "code",
   "execution_count": 5,
   "metadata": {},
   "outputs": [
    {
     "data": {
      "text/plain": [
       "['Amaravati',\n",
       " 'Rajamahendravaram',\n",
       " 'Tirupati',\n",
       " 'Vijayawada',\n",
       " 'Visakhapatnam',\n",
       " 'Gaya',\n",
       " 'Muzaffarpur',\n",
       " 'Patna',\n",
       " 'Bawana',\n",
       " 'Defence Colony',\n",
       " 'Delhi',\n",
       " 'Deoli',\n",
       " 'Karol Bagh',\n",
       " 'Nangloi Jat',\n",
       " 'New Delhi',\n",
       " 'Pitampura',\n",
       " 'Shahdara',\n",
       " 'Adalaj',\n",
       " 'Ahmedabad',\n",
       " 'Ghandinagar',\n",
       " 'Naroda',\n",
       " 'Sarkhej',\n",
       " 'Bahadurgarh',\n",
       " 'Bhiwani',\n",
       " 'Faridabad',\n",
       " 'Gharaunda',\n",
       " 'Gurugram',\n",
       " 'Jind',\n",
       " 'Palwal',\n",
       " 'Panchkula',\n",
       " 'Sonipat',\n",
       " 'Thanesar',\n",
       " 'Yamunanagar',\n",
       " 'Jorapokhar',\n",
       " 'Bengaluru',\n",
       " 'Gulbarga',\n",
       " 'Hubli',\n",
       " 'Damoh',\n",
       " 'Dewas',\n",
       " 'Mandideep',\n",
       " 'Pithampur',\n",
       " 'Ratlam',\n",
       " 'Satna',\n",
       " 'Singrauli',\n",
       " 'Ujjain',\n",
       " 'Ajmer',\n",
       " 'Alwar',\n",
       " 'Bhiwadi',\n",
       " 'Jaipur',\n",
       " 'Jodhpur',\n",
       " 'Kota',\n",
       " 'Pali',\n",
       " 'Udaipur',\n",
       " 'Hyderabad',\n",
       " 'Agra',\n",
       " 'Ghaziabad',\n",
       " 'Greater Noida',\n",
       " 'Hapur',\n",
       " 'Lucknow',\n",
       " 'Moradabad',\n",
       " 'Noida',\n",
       " 'Varanasi']"
      ]
     },
     "execution_count": 5,
     "metadata": {},
     "output_type": "execute_result"
    }
   ],
   "source": [
    "list_of_cities=[]\n",
    "for url in list_of_request_urls:\n",
    "    response=requests.get(url)\n",
    "    city_dict=response.json()\n",
    "    list_of_cities.append(city_dict['data'])\n",
    "\n",
    "list1=[]\n",
    "for city in list_of_cities:\n",
    "    list1.append(city)\n",
    "\n",
    "list2=[]\n",
    "for i in list1:\n",
    "    sample_list=i\n",
    "    for n in sample_list:\n",
    "        list2.append(n)\n",
    "list2=[i for i in list2 if type(i)==dict]\n",
    "list3=[]\n",
    "for index in list2:\n",
    "    list3.append(index['city'])\n",
    "list3"
   ]
  },
  {
   "cell_type": "code",
   "execution_count": 6,
   "metadata": {},
   "outputs": [
    {
     "data": {
      "text/plain": [
       "['http://api.airvisual.com/v2/city?city=Amaravati&state=Andhra+Pradesh&country=India&key=SGohAttESqMpCyjCF',\n",
       " 'http://api.airvisual.com/v2/city?city=Rajamahendravaram&state=Bihar&country=India&key=SGohAttESqMpCyjCF',\n",
       " 'http://api.airvisual.com/v2/city?city=Tirupati&state=Bihar&country=India&key=SGohAttESqMpCyjCF',\n",
       " 'http://api.airvisual.com/v2/city?city=Vijayawada&state=Bihar&country=India&key=SGohAttESqMpCyjCF',\n",
       " 'http://api.airvisual.com/v2/city?city=Visakhapatnam&state=Bihar&country=India&key=SGohAttESqMpCyjCF',\n",
       " 'http://api.airvisual.com/v2/city?city=Gaya&state=Bihar&country=India&key=SGohAttESqMpCyjCF',\n",
       " 'http://api.airvisual.com/v2/city?city=Muzaffarpur&state=Bihar&country=India&key=SGohAttESqMpCyjCF',\n",
       " 'http://api.airvisual.com/v2/city?city=Patna&state=Bihar&country=India&key=SGohAttESqMpCyjCF',\n",
       " 'http://api.airvisual.com/v2/city?city=Bawana&state=Bihar&country=India&key=SGohAttESqMpCyjCF',\n",
       " 'http://api.airvisual.com/v2/city?city=Defence+Colony&state=Bihar&country=India&key=SGohAttESqMpCyjCF',\n",
       " 'http://api.airvisual.com/v2/city?city=Delhi&state=Bihar&country=India&key=SGohAttESqMpCyjCF',\n",
       " 'http://api.airvisual.com/v2/city?city=Deoli&state=Bihar&country=India&key=SGohAttESqMpCyjCF',\n",
       " 'http://api.airvisual.com/v2/city?city=Karol+Bagh&state=Bihar&country=India&key=SGohAttESqMpCyjCF',\n",
       " 'http://api.airvisual.com/v2/city?city=Nangloi+Jat&state=Bihar&country=India&key=SGohAttESqMpCyjCF',\n",
       " 'http://api.airvisual.com/v2/city?city=New+Delhi&state=Bihar&country=India&key=SGohAttESqMpCyjCF',\n",
       " 'http://api.airvisual.com/v2/city?city=Pitampura&state=Bihar&country=India&key=SGohAttESqMpCyjCF',\n",
       " 'http://api.airvisual.com/v2/city?city=Shahdara&state=Bihar&country=India&key=SGohAttESqMpCyjCF',\n",
       " 'http://api.airvisual.com/v2/city?city=Adalaj&state=Bihar&country=India&key=SGohAttESqMpCyjCF',\n",
       " 'http://api.airvisual.com/v2/city?city=Ahmedabad&state=Bihar&country=India&key=SGohAttESqMpCyjCF',\n",
       " 'http://api.airvisual.com/v2/city?city=Ghandinagar&state=Bihar&country=India&key=SGohAttESqMpCyjCF',\n",
       " 'http://api.airvisual.com/v2/city?city=Naroda&state=Bihar&country=India&key=SGohAttESqMpCyjCF',\n",
       " 'http://api.airvisual.com/v2/city?city=Sarkhej&state=Bihar&country=India&key=SGohAttESqMpCyjCF',\n",
       " 'http://api.airvisual.com/v2/city?city=Bahadurgarh&state=Bihar&country=India&key=SGohAttESqMpCyjCF',\n",
       " 'http://api.airvisual.com/v2/city?city=Bhiwani&state=Bihar&country=India&key=SGohAttESqMpCyjCF',\n",
       " 'http://api.airvisual.com/v2/city?city=Faridabad&state=Bihar&country=India&key=SGohAttESqMpCyjCF',\n",
       " 'http://api.airvisual.com/v2/city?city=Gharaunda&state=Bihar&country=India&key=SGohAttESqMpCyjCF',\n",
       " 'http://api.airvisual.com/v2/city?city=Gurugram&state=Bihar&country=India&key=SGohAttESqMpCyjCF',\n",
       " 'http://api.airvisual.com/v2/city?city=Jind&state=Bihar&country=India&key=SGohAttESqMpCyjCF',\n",
       " 'http://api.airvisual.com/v2/city?city=Palwal&state=Bihar&country=India&key=SGohAttESqMpCyjCF',\n",
       " 'http://api.airvisual.com/v2/city?city=Panchkula&state=Bihar&country=India&key=SGohAttESqMpCyjCF',\n",
       " 'http://api.airvisual.com/v2/city?city=Sonipat&state=Bihar&country=India&key=SGohAttESqMpCyjCF',\n",
       " 'http://api.airvisual.com/v2/city?city=Thanesar&state=Bihar&country=India&key=SGohAttESqMpCyjCF',\n",
       " 'http://api.airvisual.com/v2/city?city=Yamunanagar&state=Bihar&country=India&key=SGohAttESqMpCyjCF',\n",
       " 'http://api.airvisual.com/v2/city?city=Jorapokhar&state=Bihar&country=India&key=SGohAttESqMpCyjCF',\n",
       " 'http://api.airvisual.com/v2/city?city=Bengaluru&state=Bihar&country=India&key=SGohAttESqMpCyjCF',\n",
       " 'http://api.airvisual.com/v2/city?city=Gulbarga&state=Bihar&country=India&key=SGohAttESqMpCyjCF',\n",
       " 'http://api.airvisual.com/v2/city?city=Hubli&state=Bihar&country=India&key=SGohAttESqMpCyjCF',\n",
       " 'http://api.airvisual.com/v2/city?city=Damoh&state=Bihar&country=India&key=SGohAttESqMpCyjCF',\n",
       " 'http://api.airvisual.com/v2/city?city=Dewas&state=Bihar&country=India&key=SGohAttESqMpCyjCF',\n",
       " 'http://api.airvisual.com/v2/city?city=Mandideep&state=Bihar&country=India&key=SGohAttESqMpCyjCF',\n",
       " 'http://api.airvisual.com/v2/city?city=Pithampur&state=Bihar&country=India&key=SGohAttESqMpCyjCF',\n",
       " 'http://api.airvisual.com/v2/city?city=Ratlam&state=Bihar&country=India&key=SGohAttESqMpCyjCF',\n",
       " 'http://api.airvisual.com/v2/city?city=Satna&state=Bihar&country=India&key=SGohAttESqMpCyjCF',\n",
       " 'http://api.airvisual.com/v2/city?city=Singrauli&state=Bihar&country=India&key=SGohAttESqMpCyjCF',\n",
       " 'http://api.airvisual.com/v2/city?city=Ujjain&state=Bihar&country=India&key=SGohAttESqMpCyjCF',\n",
       " 'http://api.airvisual.com/v2/city?city=Ajmer&state=Bihar&country=India&key=SGohAttESqMpCyjCF',\n",
       " 'http://api.airvisual.com/v2/city?city=Alwar&state=Bihar&country=India&key=SGohAttESqMpCyjCF',\n",
       " 'http://api.airvisual.com/v2/city?city=Bhiwadi&state=Bihar&country=India&key=SGohAttESqMpCyjCF',\n",
       " 'http://api.airvisual.com/v2/city?city=Jaipur&state=Bihar&country=India&key=SGohAttESqMpCyjCF',\n",
       " 'http://api.airvisual.com/v2/city?city=Jodhpur&state=Bihar&country=India&key=SGohAttESqMpCyjCF',\n",
       " 'http://api.airvisual.com/v2/city?city=Kota&state=Bihar&country=India&key=SGohAttESqMpCyjCF',\n",
       " 'http://api.airvisual.com/v2/city?city=Pali&state=Bihar&country=India&key=SGohAttESqMpCyjCF',\n",
       " 'http://api.airvisual.com/v2/city?city=Udaipur&state=Bihar&country=India&key=SGohAttESqMpCyjCF',\n",
       " 'http://api.airvisual.com/v2/city?city=Hyderabad&state=Bihar&country=India&key=SGohAttESqMpCyjCF',\n",
       " 'http://api.airvisual.com/v2/city?city=Agra&state=Bihar&country=India&key=SGohAttESqMpCyjCF',\n",
       " 'http://api.airvisual.com/v2/city?city=Ghaziabad&state=Bihar&country=India&key=SGohAttESqMpCyjCF',\n",
       " 'http://api.airvisual.com/v2/city?city=Greater+Noida&state=Bihar&country=India&key=SGohAttESqMpCyjCF',\n",
       " 'http://api.airvisual.com/v2/city?city=Hapur&state=Bihar&country=India&key=SGohAttESqMpCyjCF',\n",
       " 'http://api.airvisual.com/v2/city?city=Lucknow&state=Bihar&country=India&key=SGohAttESqMpCyjCF',\n",
       " 'http://api.airvisual.com/v2/city?city=Moradabad&state=Bihar&country=India&key=SGohAttESqMpCyjCF',\n",
       " 'http://api.airvisual.com/v2/city?city=Noida&state=Bihar&country=India&key=SGohAttESqMpCyjCF',\n",
       " 'http://api.airvisual.com/v2/city?city=Varanasi&state=Bihar&country=India&key=SGohAttESqMpCyjCF']"
      ]
     },
     "execution_count": 6,
     "metadata": {},
     "output_type": "execute_result"
    }
   ],
   "source": [
    "list_of_request_urls2=[]\n",
    "count=0\n",
    "for indian_city in list3:\n",
    "    base_url2=\"http://api.airvisual.com/v2/city?\"\n",
    "    query_str2=urllib.parse.urlencode({'city':indian_city,'state':list_of_statess[count],'country':'India','key':'SGohAttESqMpCyjCF'})\n",
    "    count=+1\n",
    "    request_url2=base_url2+query_str2\n",
    "    list_of_request_urls2.append(request_url2)\n",
    "list_of_request_urls2"
   ]
  },
  {
   "cell_type": "code",
   "execution_count": 7,
   "metadata": {},
   "outputs": [
    {
     "data": {
      "text/plain": [
       "[{'city': 'Gaya',\n",
       "  'state': 'Bihar',\n",
       "  'country': 'India',\n",
       "  'location': {'type': 'Point', 'coordinates': [84.9438395, 24.7489694]},\n",
       "  'current': {'weather': {'ts': '2019-01-24T14:00:00.000Z',\n",
       "    'hu': 93,\n",
       "    'ic': '04n',\n",
       "    'pr': 1016,\n",
       "    'tp': 16,\n",
       "    'wd': 180,\n",
       "    'ws': 4.1},\n",
       "   'pollution': {'ts': '2019-01-24T02:00:00.000Z',\n",
       "    'aqius': 122,\n",
       "    'mainus': 'p2',\n",
       "    'aqicn': 61,\n",
       "    'maincn': 'p2'}}}]"
      ]
     },
     "execution_count": 7,
     "metadata": {},
     "output_type": "execute_result"
    }
   ],
   "source": [
    "##the problem with this loop is that I keep reaching my call limit\n",
    "## and not able to get the aq data that i need.\n",
    "city_dataa=[]\n",
    "for urls in list_of_request_urls2:\n",
    "    r=requests.get(urls)\n",
    "    city_dict_data=r.json()\n",
    "    if city_dict_data['status']=='success':\n",
    "        city_data=city_dict_data['data']\n",
    "        city_dataa.append(city_data)\n",
    "city_dataa\n",
    "#if city_data['data']['status']=='success':\n",
    "#print(city_data)"
   ]
  },
  {
   "cell_type": "code",
   "execution_count": 8,
   "metadata": {},
   "outputs": [
    {
     "data": {
      "text/plain": [
       "[122]"
      ]
     },
     "execution_count": 8,
     "metadata": {},
     "output_type": "execute_result"
    }
   ],
   "source": [
    "city_dataa[0]['current']['pollution']['aqius']\n",
    "list_of_aqius=[]\n",
    "for city in city_dataa:\n",
    "    list_of_aqius.append(city['current']['pollution']['aqius'])\n",
    "list_of_aqius"
   ]
  },
  {
   "cell_type": "code",
   "execution_count": 9,
   "metadata": {},
   "outputs": [
    {
     "data": {
      "text/plain": [
       "['p2']"
      ]
     },
     "execution_count": 9,
     "metadata": {},
     "output_type": "execute_result"
    }
   ],
   "source": [
    "list_of_maincn=[]\n",
    "for city in city_dataa:\n",
    "    list_of_maincn.append(city['current']['pollution']['maincn'])\n",
    "list_of_maincn"
   ]
  },
  {
   "cell_type": "code",
   "execution_count": 10,
   "metadata": {},
   "outputs": [
    {
     "data": {
      "text/plain": [
       "[[84.9438395, 24.7489694]]"
      ]
     },
     "execution_count": 10,
     "metadata": {},
     "output_type": "execute_result"
    }
   ],
   "source": [
    "list_of_coordinates=[]\n",
    "for city in city_dataa:\n",
    "    list_of_coordinates.append(city['location']['coordinates'])\n",
    "list_of_coordinates"
   ]
  },
  {
   "cell_type": "code",
   "execution_count": 11,
   "metadata": {
    "scrolled": false
   },
   "outputs": [
    {
     "data": {
      "text/html": [
       "<div>\n",
       "<style scoped>\n",
       "    .dataframe tbody tr th:only-of-type {\n",
       "        vertical-align: middle;\n",
       "    }\n",
       "\n",
       "    .dataframe tbody tr th {\n",
       "        vertical-align: top;\n",
       "    }\n",
       "\n",
       "    .dataframe thead th {\n",
       "        text-align: right;\n",
       "    }\n",
       "</style>\n",
       "<table border=\"1\" class=\"dataframe\">\n",
       "  <thead>\n",
       "    <tr style=\"text-align: right;\">\n",
       "      <th></th>\n",
       "      <th>city</th>\n",
       "      <th>country</th>\n",
       "      <th>state</th>\n",
       "      <th>Coordinates</th>\n",
       "      <th>US Air Quality #</th>\n",
       "      <th>Main Pollutant</th>\n",
       "    </tr>\n",
       "  </thead>\n",
       "  <tbody>\n",
       "    <tr>\n",
       "      <th>0</th>\n",
       "      <td>Gaya</td>\n",
       "      <td>India</td>\n",
       "      <td>Bihar</td>\n",
       "      <td>[84.9438395, 24.7489694]</td>\n",
       "      <td>122</td>\n",
       "      <td>p2</td>\n",
       "    </tr>\n",
       "  </tbody>\n",
       "</table>\n",
       "</div>"
      ],
      "text/plain": [
       "   city country  state               Coordinates  US Air Quality #  \\\n",
       "0  Gaya   India  Bihar  [84.9438395, 24.7489694]               122   \n",
       "\n",
       "  Main Pollutant  \n",
       "0             p2  "
      ]
     },
     "execution_count": 11,
     "metadata": {},
     "output_type": "execute_result"
    }
   ],
   "source": [
    "city_data_df=pd.DataFrame(city_dataa)\n",
    "city_data_df\n",
    "city_data_df1=city_data_df.drop(['current','location'],axis=1)\n",
    "city_data_df1.insert(3,'Coordinates',list_of_coordinates)\n",
    "city_data_df1.insert(4,'US Air Quality #',list_of_aqius)\n",
    "city_data_df1.insert(5,'Main Pollutant',list_of_maincn)\n",
    "city_data_df1"
   ]
  },
  {
   "cell_type": "code",
   "execution_count": 12,
   "metadata": {},
   "outputs": [
    {
     "name": "stdout",
     "output_type": "stream",
     "text": [
      "Requirement already satisfied: folium in /Users/Valli/anaconda3/lib/python3.7/site-packages (0.7.0)\n",
      "Requirement already satisfied: numpy in /Users/Valli/anaconda3/lib/python3.7/site-packages (from folium) (1.15.1)\n",
      "Requirement already satisfied: jinja2 in /Users/Valli/anaconda3/lib/python3.7/site-packages (from folium) (2.10)\n",
      "Requirement already satisfied: branca>=0.3.0 in /Users/Valli/anaconda3/lib/python3.7/site-packages (from folium) (0.3.1)\n",
      "Requirement already satisfied: six in /Users/Valli/anaconda3/lib/python3.7/site-packages (from folium) (1.11.0)\n",
      "Requirement already satisfied: requests in /Users/Valli/anaconda3/lib/python3.7/site-packages (from folium) (2.19.1)\n",
      "Requirement already satisfied: MarkupSafe>=0.23 in /Users/Valli/anaconda3/lib/python3.7/site-packages (from jinja2->folium) (1.0)\n",
      "Requirement already satisfied: urllib3<1.24,>=1.21.1 in /Users/Valli/anaconda3/lib/python3.7/site-packages (from requests->folium) (1.23)\n",
      "Requirement already satisfied: chardet<3.1.0,>=3.0.2 in /Users/Valli/anaconda3/lib/python3.7/site-packages (from requests->folium) (3.0.4)\n",
      "Requirement already satisfied: idna<2.8,>=2.5 in /Users/Valli/anaconda3/lib/python3.7/site-packages (from requests->folium) (2.7)\n",
      "Requirement already satisfied: certifi>=2017.4.17 in /Users/Valli/anaconda3/lib/python3.7/site-packages (from requests->folium) (2018.8.24)\n",
      "\u001b[31mtwisted 18.7.0 requires PyHamcrest>=1.9.0, which is not installed.\u001b[0m\n",
      "\u001b[33mYou are using pip version 10.0.1, however version 18.1 is available.\n",
      "You should consider upgrading via the 'pip install --upgrade pip' command.\u001b[0m\n"
     ]
    }
   ],
   "source": [
    "!pip install folium"
   ]
  },
  {
   "cell_type": "code",
   "execution_count": 13,
   "metadata": {},
   "outputs": [],
   "source": [
    "import folium\n",
    "from folium import IFrame  "
   ]
  },
  {
   "cell_type": "code",
   "execution_count": 14,
   "metadata": {},
   "outputs": [],
   "source": [
    "air_quality_map=folium.Map(location=[20.5937,78.9629],zoom_start=5)"
   ]
  },
  {
   "cell_type": "code",
   "execution_count": 15,
   "metadata": {
    "scrolled": true
   },
   "outputs": [
    {
     "data": {
      "text/plain": [
       "[[24.7489694, 84.9438395]]"
      ]
     },
     "execution_count": 15,
     "metadata": {},
     "output_type": "execute_result"
    }
   ],
   "source": [
    "coordinates=[]\n",
    "for location in city_data_df1['Coordinates']:\n",
    "    counter=0\n",
    "    long=location[counter]\n",
    "    counter=+1\n",
    "    lat=location[counter]\n",
    "    coordinates.append([lat,long])\n",
    "coordinates\n",
    "    "
   ]
  },
  {
   "cell_type": "code",
   "execution_count": 25,
   "metadata": {},
   "outputs": [
    {
     "data": {
      "text/plain": [
       "[city                                    Gaya\n",
       " country                                India\n",
       " state                                  Bihar\n",
       " Coordinates         [84.9438395, 24.7489694]\n",
       " US Air Quality #                         122\n",
       " Main Pollutant                            p2\n",
       " Name: 0, dtype: object]"
      ]
     },
     "execution_count": 25,
     "metadata": {},
     "output_type": "execute_result"
    }
   ],
   "source": [
    "text = []\n",
    "countss=0\n",
    "for index, row in city_data_df1.iterrows():\n",
    "    text.append(row[0:6])\n",
    "text"
   ]
  },
  {
   "cell_type": "code",
   "execution_count": 26,
   "metadata": {
    "scrolled": false
   },
   "outputs": [
    {
     "data": {
      "text/html": [
       "<div style=\"width:100%;\"><div style=\"position:relative;width:100%;height:0;padding-bottom:60%;\"><iframe src=\"data:text/html;charset=utf-8;base64,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\" style=\"position:absolute;width:100%;height:100%;left:0;top:0;border:none !important;\" allowfullscreen webkitallowfullscreen mozallowfullscreen></iframe></div></div>"
      ],
      "text/plain": [
       "<folium.folium.Map at 0x11f32a470>"
      ]
     },
     "execution_count": 26,
     "metadata": {},
     "output_type": "execute_result"
    }
   ],
   "source": [
    "#iframe=folium.IFrame(text,width=700,height=450)\n",
    "#popup=folium.Popup(text,max_width=3000)\n",
    "\n",
    "counts=0\n",
    "for i in coordinates:\n",
    "    textss=str(text[counts])\n",
    "    marker=folium.CircleMarker(location=i,radius=20,popup=folium.Popup(textss,max_width=3000),color='#FFB14E',fill=True,fill_color='#FFB14E')\n",
    "    marker.add_to(air_quality_map)\n",
    "    counts=+1\n",
    "air_quality_map"
   ]
  },
  {
   "cell_type": "code",
   "execution_count": null,
   "metadata": {},
   "outputs": [],
   "source": []
  }
 ],
 "metadata": {
  "kernelspec": {
   "display_name": "Python 3",
   "language": "python",
   "name": "python3"
  },
  "language_info": {
   "codemirror_mode": {
    "name": "ipython",
    "version": 3
   },
   "file_extension": ".py",
   "mimetype": "text/x-python",
   "name": "python",
   "nbconvert_exporter": "python",
   "pygments_lexer": "ipython3",
   "version": "3.7.0"
  }
 },
 "nbformat": 4,
 "nbformat_minor": 2
}
